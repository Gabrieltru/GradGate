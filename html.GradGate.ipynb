<!DOCTYPE html>
<html lang="en">
<head>
  <meta charset="UTF-8" />
  <meta name="viewport" content="width=device-width, initial-scale=1.0"/>
  <title>My First Website</title>
  <style>
    body {
      font-family: Arial, sans-serif;
      background-color: #f5f5f5;
      margin: 0;
      padding: 20px;
      text-align: center;
    }
    header {
      background-color: #4CAF50;
      color: white;
      padding: 20px;
    }
    section {
      margin-top: 20px;
    }
    footer {
      margin-top: 30px;
      font-size: 0.9em;
      color: gray;
    }
  </style>
</head>
<body>

  <header>
    <h1>Welcome to My Website</h1>
    <p>This is a simple HTML page</p>
  </header>

  <section>
    <h2>About Me</h2>
    <p>Hi! I'm learning how to build websites using HTML and Visual Studio Code.</p>
  </section>

  <section>
    <h2>My Interests</h2>
    <ul>
      <li>Web development</li>
      <li>Video games</li>
      <li>Music</li>
    </ul>
  </section>

  <footer>
    <p>© 2025 My First Website</p>
  </footer>

</body>
</html>

